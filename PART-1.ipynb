{
 "cells": [
  {
   "cell_type": "markdown",
   "metadata": {},
   "source": [
    "# InstaBot Introduction - Part 1\n",
    "Your friend has opened a new Food Blogging handle on Instagram and wants to get famous. He wants to follow a lot of people so that he can get noticed quickly but it is a tedious task so he asks you to help him. As you have just learned automation using Selenium, you decided to help him by creating an Instagram Bot.\n",
    "\n",
    "You need to create different functions for each task.\n",
    "##### Note :\n",
    "Don’t forget to remove your Username and Password from the python notebook before submission.\n",
    "\n",
    "Replace your username and password by ‘SAMPLE USERNAME’ and ‘SAMPLE PASSWORD’ where you have used them in your code for logging in to instagram\n",
    "\n",
    "Upload your code file for submission of this project"
   ]
  },
  {
   "cell_type": "markdown",
   "metadata": {},
   "source": [
    "## 1) Login to your Instagram Handle\n",
    "\n",
    "### 1.1) Submit with sample username and password"
   ]
  },
  {
   "cell_type": "code",
   "execution_count": 2,
   "metadata": {},
   "outputs": [],
   "source": [
    "import time\n",
    "from selenium.webdriver.support.ui import WebDriverWait\n",
    "from selenium.webdriver.support import expected_conditions as EC\n",
    "from selenium.webdriver.common.by import By\n",
    "\n",
    "from selenium.common.exceptions import TimeoutException\n",
    "from selenium.common.exceptions import NoSuchElementException\n",
    "from selenium import webdriver\n",
    "driver = webdriver.Chrome('chromedriver.exe')"
   ]
  },
  {
   "cell_type": "code",
   "execution_count": 3,
   "metadata": {},
   "outputs": [],
   "source": [
    "def login():\n",
    "    driver.get(\"https://www.instagram.com/\")\n",
    "    time.sleep(2)\n",
    "    user_name_textbox = driver.find_element_by_name(\"username\")\n",
    "    user_name_textbox.send_keys(\"interestingfacts2104@gmail.com\")\n",
    "    password_textbox = driver.find_element_by_name(\"password\")\n",
    "    password_textbox.send_keys(\"codingninjas21\")\n",
    "    driver.find_element_by_class_name(\"qF0y9\").click()\n",
    "    time.sleep(3)\n",
    "    \n",
    "    try:\n",
    "        driver.find_element_by_class_name(\"L3NKy\").click()    \n",
    "        time.sleep(2)\n",
    "        \n",
    "        popup2 = driver.find_element_by_class_name(\"aOOlW\")\n",
    "        if popup2.is_enabled:\n",
    "            popup2.click()\n",
    "         \n",
    "        \n",
    "    except NoSuchElementException:\n",
    "        pass"
   ]
  },
  {
   "cell_type": "code",
   "execution_count": 4,
   "metadata": {
    "scrolled": true
   },
   "outputs": [],
   "source": [
    "login()"
   ]
  },
  {
   "cell_type": "markdown",
   "metadata": {},
   "source": [
    "## 2) Type for “food” in search bar and print all the names of the Instagram Handles that are displayed in list after typing “food”\n",
    "\n",
    "### 2.1) Note : Make sure to avoid printing hashtags"
   ]
  },
  {
   "cell_type": "code",
   "execution_count": 5,
   "metadata": {},
   "outputs": [],
   "source": [
    "def text_box(search_text):\n",
    "    text_box = driver.find_element_by_class_name(\"XTCLo\")\n",
    "    text_box.clear()\n",
    "    text_box.send_keys(search_text)"
   ]
  },
  {
   "cell_type": "code",
   "execution_count": 6,
   "metadata": {},
   "outputs": [],
   "source": [
    "def insta_handle():\n",
    "    text_box('food')\n",
    "    time.sleep(2)\n",
    "    lst = driver.find_elements_by_class_name(\"-qQT3\")\n",
    "    insta_handles = []\n",
    "    \n",
    "    for i in lst:\n",
    "        if ('location' not in i.get_attribute('href')) and ('tags' not in i.get_attribute('href')):\n",
    "            insta_handles.append(i)\n",
    "            \n",
    "    for j in insta_handles:\n",
    "        print(j.find_element_by_class_name(\"_7UhW9\").text)"
   ]
  },
  {
   "cell_type": "code",
   "execution_count": 106,
   "metadata": {},
   "outputs": [
    {
     "name": "stdout",
     "output_type": "stream",
     "text": [
      "foodie_incarnate\n",
      "foodgod\n",
      "foodsbible\n",
      "foodmybff\n",
      "yourfoodlab\n",
      "ssg.food.market\n",
      "food\n",
      "healthy.foodyss\n",
      "jogjafoodhunter\n",
      "jeonju___food\n",
      "foodporn\n",
      "foodbible\n",
      "thefoodbabe\n",
      "_monafood\n",
      "spicy_street_food_stall\n",
      "healthyfoodyess\n",
      "thefoodnanny\n",
      "albaik\n",
      "dogs_infood\n",
      "foodinsider\n",
      "healthyfood.facts\n",
      "foodyeating\n",
      "functional.foods\n",
      "food52\n",
      "foodfusionpk\n",
      "calories.expert\n",
      "foodnetwork\n",
      "honestrecipe\n",
      "freshfetchindia\n",
      "foodtalkindia\n",
      "thefoodmedic\n",
      "md206_photography\n",
      "prowlfood\n",
      "sij28\n",
      "foodlty\n",
      "food.darzee\n",
      "foodyfetish\n",
      "foodspring_it\n",
      "sundaybrunchfood\n",
      "jewishfood\n",
      "foodnetworkmag\n",
      "livetruefood\n",
      "filmyfoodie\n",
      "ziaflavia_foodnboobs\n",
      "dilsefoodie\n",
      "halalfoodiemy\n",
      "jana_italyfoodprn\n"
     ]
    }
   ],
   "source": [
    "insta_handle()"
   ]
  },
  {
   "cell_type": "markdown",
   "metadata": {},
   "source": [
    "## 3) Searching and Opening a profile using \n",
    "\n",
    "### 3.1) Open profile of “So Delhi” "
   ]
  },
  {
   "cell_type": "code",
   "execution_count": 8,
   "metadata": {},
   "outputs": [],
   "source": [
    "def open_profile(profile_name):\n",
    "    text_box(profile_name)\n",
    "    time.sleep(3)\n",
    "    driver.find_element_by_class_name(\"-qQT3\").click()"
   ]
  },
  {
   "cell_type": "code",
   "execution_count": 15,
   "metadata": {},
   "outputs": [],
   "source": [
    "open_profile(\"So Delhi\")"
   ]
  },
  {
   "cell_type": "markdown",
   "metadata": {},
   "source": [
    "## 4) Follow/Unfollow given handle - \n",
    "\n",
    "### 4.1) Open the Instagram Handle of “So Delhi”\n",
    "\n",
    "### 4.2) Start following it. Print a message if you are already following\n",
    "\n",
    "### 4.3) After following, unfollow the instagram handle. Print a message if you have already unfollowed."
   ]
  },
  {
   "cell_type": "code",
   "execution_count": 16,
   "metadata": {},
   "outputs": [],
   "source": [
    "# creating a function to check the following status\n",
    "import time\n",
    "def follow():  \n",
    "    if driver.find_element_by_class_name(\"_5f5mN\").text == \"Follow\": # we check if we have followed the handle or not\n",
    "        driver.find_element_by_class_name(\"_5f5mN\").click() # if it is not followed then we click on Follow\n",
    "        time.sleep(2)\n",
    "    \n",
    "    else:\n",
    "        print('You are already following') # this message is printed if the channel is already followed"
   ]
  },
  {
   "cell_type": "code",
   "execution_count": 18,
   "metadata": {},
   "outputs": [
    {
     "name": "stdout",
     "output_type": "stream",
     "text": [
      "You are already following\n"
     ]
    }
   ],
   "source": [
    "follow()"
   ]
  },
  {
   "cell_type": "code",
   "execution_count": 19,
   "metadata": {},
   "outputs": [],
   "source": [
    "# creating a function to check the unfollowing status\n",
    "def unfollow(): \n",
    "    if driver.find_element_by_class_name(\"_5f5mN\").text == 'Follow': \n",
    "        print('Your are already NOT following it')                  \n",
    "    \n",
    "    else:  # if we are following then\n",
    "        driver.find_element_by_class_name(\"_5f5mN\").click() \n",
    "        time.sleep(2) \n",
    "        a = driver.find_element_by_class_name(\"aOOlW\") \n",
    "        time.sleep(2)\n",
    "        a.click() "
   ]
  },
  {
   "cell_type": "code",
   "execution_count": 21,
   "metadata": {},
   "outputs": [
    {
     "name": "stdout",
     "output_type": "stream",
     "text": [
      "Your are already NOT following it\n"
     ]
    }
   ],
   "source": [
    "unfollow() "
   ]
  },
  {
   "cell_type": "markdown",
   "metadata": {},
   "source": [
    "## 5) Like/Unlike posts\n",
    "\n",
    "### 5.1) Liking the top 30 posts of the ‘dilsefoodie'. Print message if you have already liked it.\n",
    "\n",
    "### 5.2) Unliking the top 30 posts of the ‘dilsefoodie’. Print message if you have already unliked it."
   ]
  },
  {
   "cell_type": "code",
   "execution_count": 9,
   "metadata": {},
   "outputs": [],
   "source": [
    "open_profile('dilsefoodie')"
   ]
  },
  {
   "cell_type": "code",
   "execution_count": 14,
   "metadata": {},
   "outputs": [],
   "source": [
    "driver.execute_script('window.scrollTo(0, 6000);')"
   ]
  },
  {
   "cell_type": "code",
   "execution_count": 37,
   "metadata": {},
   "outputs": [],
   "source": [
    "driver.find_element_by_class_name(\"fr66n\").click()"
   ]
  },
  {
   "cell_type": "code",
   "execution_count": 38,
   "metadata": {},
   "outputs": [],
   "source": [
    "def Like_post(profile) :\n",
    "    open_profile(profile) # calling func to open given profile\n",
    "    time.sleep(3)\n",
    "    posts = driver.find_elements_by_class_name('_9AhH0') # finding all posts on page\n",
    "    for i in range(30):\n",
    "        posts[i].click() # clicking on each post\n",
    "        time.sleep(1)\n",
    "        like = driver.find_element_by_class_name('fr66n') # finding like button\n",
    "        if like.get_attribute('aria-label') == 'Like' : # checking condn if already liked or not\n",
    "            driver.find_element_by_class_name(\"fr66n\").click()  \n",
    "        else :\n",
    "            print('You have already liked post number', i+1)\n",
    "            \n",
    "        driver.find_element_by_class_name('qJPeX').click()  # clickeng on cross button\n"
   ]
  },
  {
   "cell_type": "code",
   "execution_count": 39,
   "metadata": {},
   "outputs": [
    {
     "name": "stdout",
     "output_type": "stream",
     "text": [
      "You have already liked post number 1\n",
      "You have already liked post number 2\n",
      "You have already liked post number 3\n",
      "You have already liked post number 4\n",
      "You have already liked post number 5\n",
      "You have already liked post number 6\n",
      "You have already liked post number 7\n",
      "You have already liked post number 8\n",
      "You have already liked post number 9\n",
      "You have already liked post number 10\n",
      "You have already liked post number 11\n",
      "You have already liked post number 12\n",
      "You have already liked post number 13\n",
      "You have already liked post number 14\n",
      "You have already liked post number 15\n",
      "You have already liked post number 16\n",
      "You have already liked post number 17\n",
      "You have already liked post number 18\n",
      "You have already liked post number 19\n",
      "You have already liked post number 20\n",
      "You have already liked post number 21\n",
      "You have already liked post number 22\n",
      "You have already liked post number 23\n",
      "You have already liked post number 24\n",
      "You have already liked post number 25\n",
      "You have already liked post number 26\n",
      "You have already liked post number 27\n",
      "You have already liked post number 28\n",
      "You have already liked post number 29\n",
      "You have already liked post number 30\n"
     ]
    }
   ],
   "source": [
    "Like_post('dilsefoodie')"
   ]
  },
  {
   "cell_type": "markdown",
   "metadata": {},
   "source": [
    "## 6) Extract list of followers\n",
    "\n",
    "### 6.1) Extract the usernames of the first 500 followers of ‘foodtalkindia’ and ‘sodelhi’.\n"
   ]
  },
  {
   "cell_type": "code",
   "execution_count": 48,
   "metadata": {},
   "outputs": [],
   "source": [
    "\"\"\"\"\"\n",
    "Here in this question i have first created a function to get 500 followers of a instagram handle which needs to be passed\n",
    "So, first i have visited the given page and then scrolled till 500 followers are not loaded on page .\n",
    "then extracted those followers.\n",
    "\n",
    "\"\"\"\"\"\n",
    "def user_names(profile):\n",
    "    open_profile(profile)\n",
    "    time.sleep(3)\n",
    "    driver.find_elements_by_class_name(\"-nal3\")[1].click()\n",
    "    time.sleep(3)\n",
    "    \n",
    "    current_height = driver.execute_script('return document.getElementsByClassName(\"isgrP\")[0].scrollHeight;')\n",
    "    followers = driver.find_elements_by_class_name(\"_0imsa\")\n",
    "    \n",
    "    while len(followers) <= 500:\n",
    "        driver.execute_script('document.getElementsByClassName(\"isgrP\")[0].scrollTo(0,arguments[0]);',current_height)\n",
    "        time.sleep(2)\n",
    "        new_height = driver.execute_script('return document.getElementsByClassName(\"isgrP\")[0].scrollHeight;')\n",
    "        current_height = new_height\n",
    "        followers = driver.find_elements_by_class_name(\"_0imsa\")\n",
    "        \n",
    "    return followers  "
   ]
  },
  {
   "cell_type": "code",
   "execution_count": 223,
   "metadata": {},
   "outputs": [],
   "source": [
    "# creating a function to extracting only 500 followers in a set as in previous function there may be more than 500 followers as \n",
    "# the page loaded may have more than 500 followers\n",
    "\n",
    "def Food_talk_followers(profile):\n",
    "    followers = user_names(profile)\n",
    "    food_talk_followers = set()\n",
    "    \n",
    "    for i in range(500):\n",
    "        food_talk_followers.add(followers[i].get_attribute('title'))\n",
    "        \n",
    "    return food_talk_followers"
   ]
  },
  {
   "cell_type": "code",
   "execution_count": 224,
   "metadata": {},
   "outputs": [
    {
     "name": "stdout",
     "output_type": "stream",
     "text": [
      "absu_india\n",
      "mommypuri\n",
      "arihant_chocolates\n",
      "lokesh_shharma\n",
      "ishanbhatnagar\n",
      "gallivanter_dirtbag\n",
      "snehachansings\n",
      "official_noor_325\n",
      "bigfatfoodie1991\n",
      "delta.7700\n",
      "shikharwark\n",
      "couplecontent18\n",
      "attalurishivalakshmi\n",
      "chetangupta7007\n",
      "rafeeah_rs\n",
      "tanikamra\n",
      "sachinanilmishra\n",
      "dil_se_foodie_traveller\n",
      "singhgazi\n",
      "shubhsawhney\n",
      "faimchoudhary14367\n",
      "its_virendras\n",
      "vinayarego\n",
      "mulabagilu_dosa_point\n",
      "shivesh_8\n",
      "bhatia_\n",
      "sentha.heng\n",
      "anshveer.narang\n",
      "c.h.i.n.z.z.z\n",
      "rvndrsingh\n",
      "uniqueastroman\n",
      "hukko8971\n",
      "rohannavghane\n",
      "a.k.a.s.h_d.h.i.l.l.o.n\n",
      "zahrarana11\n",
      "ayushgoel7873\n",
      "cvsinghfrnds\n",
      "jackky_haddid\n",
      "shalinivyas__\n",
      "pankaj.satija04\n",
      "chefsukeshkale\n",
      "shahi_dastarkhwan_01\n",
      "oyehoyechaap\n",
      "scorpio_ritz\n",
      "saurabh_14497\n",
      "urvishdonga\n",
      "metamorphis_gt\n",
      "sana_parveen17496\n",
      "faissal_lo\n",
      "p_r_prativa_007\n",
      "pspradeep\n",
      "ajitpal_singh_pannu\n",
      "mollifiedrecord\n",
      "adwani_dhabaa\n",
      "sumit.singh.tanwar\n",
      "abhishektriteja\n",
      "tarun_cku\n",
      "_sneha_rj\n",
      "mayankdhingra9\n",
      "mb_suthar_interior.designers\n",
      "nikitastaneja\n",
      "lakshay.arora77\n",
      "analimgurung\n",
      "snowman_29_\n",
      "kiccha__sudeepa_fans__karnatak\n",
      "tokyomuffin\n",
      "naavvvzzzz\n",
      "mr__dipu__yadav\n",
      "productgraphybyvipin\n",
      "rishab990__\n",
      "veeliketoeat\n",
      "anmol_writes777\n",
      "talim7120\n",
      "basukesar\n",
      "imran02320\n",
      "imahadevbhakt\n",
      "pestrocucinarestro\n",
      "shuchii_goel\n",
      "_.ktm_bike_lover._\n",
      "danish_____zehen80\n",
      "viks1308\n",
      "raverss_club\n",
      "debojyoti._b\n",
      "fah_kitchen_\n",
      "surajdhawale358\n",
      "pria_naik\n",
      "youovercoffee\n",
      "puneetchauhans\n",
      "ankit_5_\n",
      "iamhnair\n",
      "gagantalwar25\n",
      "earthomaya\n",
      "pahadee_chikitsak\n",
      "___a__s__w__i__k_____\n",
      "varunbhasin06\n",
      "butternutsentertainments\n",
      "jitu_poojary\n",
      "aishwaryagarwal97\n",
      "kunwar_devang_rajput\n",
      "ashish.khanchandani\n",
      "its_raumya\n",
      "ningenbyron\n",
      "maddyjster\n",
      "kushal.p13\n",
      "avinash_chandra____\n",
      "ta_run6795\n",
      "riiaaaa20\n",
      "philip_sachin\n",
      "aa__rizz\n",
      "prajwal8321\n",
      "vikash__baghel_1303\n",
      "samiksha3216\n",
      "remington_saha\n",
      "sail.in.my.boat\n",
      "rajanjauhar\n",
      "let.sindulge\n",
      "aseem__galhotra\n",
      "abhit011\n",
      "pooja_mitesh_panchal\n",
      "skrehan0707\n",
      "_aryan_singh_ji\n",
      "ll__kashuu__ll\n",
      "madan.malik\n",
      "roshan_singh_rajput_2006\n",
      "notnish13\n",
      "amitha_azeez\n",
      "adv_swapnildere\n",
      "sesami.mumbai\n",
      "sasta_bazar1234\n",
      "love_back_guru_ji\n",
      "harshwal.nishikant\n",
      "nishchay.17\n",
      "priyesh.tewari\n",
      "guptaliza42\n",
      "parul84in\n",
      "foodistaan_love_for_food\n",
      "bohemian_merazzz\n",
      "iam_barchef\n",
      "__amateur_home_cook\n",
      "mahendraverma0326\n",
      "kamalchakraborty1950\n",
      "supercrazyqueen\n",
      "ashubhaturewalaa\n",
      "shy.amthakare\n",
      "geeta.ganga\n",
      "organically_yours_\n",
      "maheshanjali\n",
      "murecai5\n",
      "my.food.cravings____\n",
      "jingadesunitha\n",
      "palgharkar_kk\n",
      "explor.one\n",
      "itz_j_patel_\n",
      "____naane_____guru____\n",
      "pratikzad\n",
      "chatorigullybyshams\n",
      "sp_pratik_0788\n",
      "deepikavibhar\n",
      "amit.mahey.7\n",
      "vampire_girl_padma\n",
      "tfhindia\n",
      "leilatoo8475\n",
      "i_m_s_a_i_y_a_d_7_8_6_\n",
      "artiawasthi_\n",
      "quoteharshika43\n",
      "rufusross1\n",
      "kiran_tiwari9\n",
      "vishal_raj_ji_up17\n",
      "sandeep.varanasi047\n",
      "jagdish.raika.96199344\n",
      "indian.red_head\n",
      "khadad_bandya\n",
      "ninewatt.coffee\n",
      "memayankagarwal\n",
      "_aeshaa_m\n",
      "hennapunjabi\n",
      "nomani_tax_arena\n",
      "ravneetkandhola\n",
      "junejatripat\n",
      "ap_meee\n",
      "ranadheerinteti\n",
      "sarthak.nayak.75\n",
      "zubair8723khan\n",
      "pqlivb\n",
      "pooja_bidhuri5\n",
      "snroy42\n",
      "_shivanii.singh_\n",
      "kaursukhmeen\n",
      "evghl0\n",
      "_khushi_balram\n",
      "teaknorange\n",
      "adit__777__8\n",
      "cheffoodfactory\n",
      "eatitb4iteatsyou\n",
      "aryansattitude\n",
      "lakshya_005\n",
      "rohit.sah.12\n",
      "basic_knoledge\n",
      "arjnu_barman7777\n",
      "indian_foodblogs\n",
      "eazydinerchandigarh\n",
      "chef.dhama\n",
      "rana_sahab_315\n",
      "durran_01\n",
      "radhakrishna12006\n",
      "sapnaasethi_makeupstories\n",
      "creativequietude\n",
      "dalalstreetdhandha\n",
      "bansalkeshav408\n",
      "aadhaar_sewa_kendra_noida\n",
      "shashank_sri26\n",
      "saquib.077\n",
      "rajindernagi\n",
      "i.m.jayesh_patil_\n",
      "_rashmi__rashmi_\n",
      "ah.priyakumawat\n",
      "kishan_hapaliya_12\n",
      "minam0r\n",
      "so_oumya\n",
      "deepeshwadhwa\n",
      "organicgyaan\n",
      "aditya.bhasin\n",
      "sphinx_pulkit\n",
      "nov.ian.961\n",
      "kumar.kingsman\n",
      "mohit_artgallery\n",
      "_pooja_bidari_\n",
      "nandini10mahendra00\n",
      "wxyz1542\n",
      "arjuntomohitsujisaru\n",
      "mr_a_l_o_n_e67\n",
      "evamitra30\n",
      "calacaari_\n",
      "jack_customdesigns\n",
      "ahana_bebo01\n",
      "san__thiyaa_\n",
      "nxtdoorchennai\n",
      "prashanth_cv\n",
      "mohdirshadmohdirshad21999\n",
      "travel_life_mje\n",
      "varshneyanjali2006\n",
      "nnagu1188\n",
      "paidpooja1994\n",
      "indoripetha\n",
      "aslah4320\n",
      "sp__diary_8291\n",
      "the_assamese_next_door\n",
      "shidharth_kushwaha\n",
      "tharagowda1\n",
      "chithuchannel\n",
      "rahulgaurendeavour\n",
      "vijjaayyaa\n",
      "imnikk99\n",
      "manifoldbrandstudio\n",
      "pushtiindia\n",
      "devil_boy_altamash_00000007\n",
      "aashumij\n",
      "foodtech_network\n",
      "supreet_kaur07\n",
      "flavoursandspices777\n",
      "i_am_deepshikha8\n",
      "shubhamkathuriaa\n",
      "chef_harshit\n",
      "harshapandey3\n",
      "mr__rohittt__ak47\n",
      "reza_karim1347\n",
      "the.farmcut\n",
      "ll__banswara_blog__ll\n",
      "shreyas17121993\n",
      "youandmegoa\n",
      "aash02_\n",
      "farzicafehyderabad\n",
      "thegirlinthe_kitchen\n",
      "gamozogamer\n",
      "garvita_05\n",
      "auxport.in\n",
      "ashishbajaj.2208\n",
      "mv_trade_banknifty_nifty\n",
      "trivandrumofferzone\n",
      "kanikabmodi\n",
      "amrendra.ravi\n",
      "edushopz_07\n",
      "nangare.patil1013\n",
      "happeningin.delhi\n",
      "akanshathisside\n",
      "manmohan__05__official__\n",
      "leena_mogres_fitness_\n",
      "aarohi.d.chaudhari\n",
      "aman.bajaj_\n",
      "tript_i90\n",
      "24kkraftvimannagar\n",
      "i_u5hmita.g\n",
      "tazeenfoodhub_\n",
      "riya_roy_143_love_\n",
      "aman_i1\n",
      "pramod_1988\n",
      "shubhjais\n",
      "srasti_sachan\n",
      "singeramittufani298\n",
      "avik.sarkar80\n",
      "va_ma_minal_memes\n",
      "pratham_the_devil\n",
      "rajaryannmit\n",
      "octorika\n",
      "anushkacreates\n",
      "vishal__pb_06\n",
      "nitishanand47\n",
      "guptashreyaa\n",
      "mangeshborse\n",
      "oye_badmash\n",
      "ashika_singh_cuty\n",
      "princecarlson23\n",
      "arooon_10\n",
      "valladaresdenver\n",
      "angeloneofficiyl\n",
      "uzmikhan.k\n",
      "pdf_advertising\n",
      "hasshishh\n",
      "baefood2021\n",
      "__shweeeta__\n",
      "chefabhishekgupta\n",
      "sapadshala\n",
      "s_stinder_\n",
      "sabharwalkunal\n",
      "zaarenamunaz\n",
      "sonanibharat\n",
      "yashvichildmodel\n",
      "aakash_k99\n",
      "aniket25khanna\n",
      "divesh09\n",
      "akhila.dornala038\n",
      "kaavyamakkar\n",
      "neeraj__phagwara\n",
      "kul__04\n",
      "nakulbhatia\n",
      "_a.dil__\n",
      "nikki_chauhan1575\n",
      "vishalravaldeaf\n",
      "bhavna.katyal.1\n",
      "akshay_hankare\n",
      "zuhas_kitchen\n",
      "mynameis_nishant\n",
      "tithi_debroy\n",
      "abdula.aah\n",
      "jayant.vig\n",
      "rosebrown919191\n",
      "prernasmjain\n",
      "cinnamon_____toast\n",
      "rohankumar362323\n",
      "as_ali_07\n",
      "magogaune\n",
      "krushnamayeepanda\n",
      "indiansummerfood\n",
      "__zinchu.__\n",
      "vimal.agr90\n",
      "samtahirani\n",
      "nirvasa_official\n",
      "sayali_tk\n",
      "vinaaykgndde\n",
      "singh._.t\n",
      "rosticeria.pachupollo\n",
      "deepanshu_katyal\n",
      "parul.ajmani.3\n",
      "_zeel_88\n",
      "ali_shadsouza\n",
      "tarini0r\n",
      "leeftoover\n",
      "_simrannnnnnnn__\n",
      "the_foodie_sisters_55\n",
      "ondway_alone\n",
      "aijaz.k2r\n",
      "whosomkarshinde\n",
      "shal.on13\n",
      "kabirkhan_889\n",
      "narayan_shaji\n",
      "keshavramdev\n",
      "bsnagraj123.nbd\n",
      "tinu_8\n",
      "soham.ghosh.750\n",
      "___chain_smoker_._\n",
      "yuvika_luthra\n",
      "mpscfactindept\n",
      "its_par_na\n",
      "de_thunderbird_emperor\n",
      "gautam__kathuria\n",
      "manviaggarwal40\n",
      "daud_zehen_10k\n",
      "exaucee_468\n",
      "jeasani\n",
      "madhumitaghosh632\n",
      "ashwariya_gupta\n",
      "shailjasaraogi\n",
      "varun.mixologist\n",
      "lalitsmarty_\n",
      "sanhaarora\n",
      "interestingfacts2104\n",
      "lishadawar\n",
      "adirahman.abdulahi\n",
      "themomosklub\n",
      "montyk159\n",
      "thefindouters\n",
      "adv_sharmaji\n",
      "suzann_______\n",
      "nikhilyadav005\n",
      "aditi_ait\n",
      "hey_foodies3\n",
      "karanladdi6\n",
      "smiling_repose\n",
      "kumaramit3632\n",
      "nanrajasmeetsingh_4413\n",
      "suryakantkamlesh\n",
      "jaidevvv\n",
      "naw8dkha3.29\n",
      "_dd6661\n",
      "yummy_foodie._\n",
      "vfood.lover\n",
      "hungry.young_man\n",
      "sakshimijgule39\n",
      "hohmgrain\n",
      "adarsh_saraf\n",
      "sadhikaagarwal\n",
      "parthe_food_delivery_service\n",
      "vishess.vishess\n",
      "chawareprince\n",
      "nira.v3016\n",
      "forgetformeon\n",
      "foodiethefoodlover\n",
      "alanaken\n",
      "d__poovarasan\n",
      "bharath.d.srinivasan\n",
      "prakashnsao\n",
      "voyagers_j1\n",
      "inner_strength4u\n",
      "palatinipizzeria\n",
      "latish_kaur\n",
      "ranju384\n",
      "tanayrathodd\n",
      "kukshi_print_78\n",
      "sakshi2323__\n",
      "musafir302_\n",
      "mistiraj991\n",
      "eatrightbhadohi\n",
      "movers_bakers\n",
      "moksh_malik25\n",
      "vivek.maishe\n",
      "foodfan0000\n",
      "malik.sahil14\n",
      "dark_twisty_soul\n",
      "rowdyrups\n",
      "celebsspots\n",
      "absolut_malan\n",
      "poojas_cake_studio\n",
      "monishaanand60\n",
      "hmsat_alhzn\n",
      "salu1_525\n",
      "vagheladhairy22\n",
      "premkumarprofit\n",
      "chadhaishu\n",
      "kinshu_04\n",
      "prarut_rovers\n",
      "an.antagonist.47\n",
      "fotowizards82\n",
      "anushaprksh\n",
      "vishalvalambra\n",
      "muzahid_king_786\n",
      "kanakagrahari2775\n",
      "antal_rankit231\n",
      "sad_rohitt\n",
      "richadua97\n",
      "ymmh4650\n",
      "sreethilip\n",
      "vaibhavguptax\n",
      "aashu202118\n",
      "aarayanverma\n",
      "dhankani.satish\n",
      "aakash.1511\n",
      "kumaeraj1985\n",
      "furquankhan5895\n",
      "derasuniverse\n",
      "thequirkymallu\n",
      "harshitasharma021\n",
      "_lazy._.eaters_\n",
      "shilpaxavierjohn\n",
      "_craftsandcreation_\n",
      "gurbir.walia\n",
      "monicasalwaan\n",
      "ivy0vine\n",
      "pbaggaji\n",
      "subashlifestyle\n",
      "fooddoors\n",
      "sandeep.chavhan.7712\n",
      "chefmohamed.kassem\n",
      "mamta.2231\n",
      "goonjans\n",
      "nagaraj_sajjau\n",
      "kanikamalhotra007\n",
      "rituchoudhary396\n",
      "rishwin.fj\n",
      "daily_blog21\n",
      "mr_beast_133\n"
     ]
    }
   ],
   "source": [
    "# calling function for foodtalkindia and printing the set\n",
    "\n",
    "food_talk_india = Food_talk_followers('foodtalkindia')\n",
    "    \n",
    "for i in food_talk_india:\n",
    "    print(i)"
   ]
  },
  {
   "cell_type": "code",
   "execution_count": null,
   "metadata": {},
   "outputs": [],
   "source": [
    "# creating a function to extracting only 500 followers in a set as in previous function there may be more than 500 followers as \n",
    "# the page loaded may have more than 500 followers\n",
    "def So_Delhi(profile):\n",
    "    followers1 = user_names(profile)\n",
    "    So_Delhi_Followers = set()\n",
    "    \n",
    "    for i in range(500):\n",
    "        So_Delhi_Followers.add(followers1[i].get_attribute('title'))\n",
    "        \n",
    "    return So_Delhi_Followers"
   ]
  },
  {
   "cell_type": "code",
   "execution_count": null,
   "metadata": {},
   "outputs": [],
   "source": [
    "# calling function for so delhi and printing the set\n",
    "\n",
    "So_Delhi_Follower_List = So_Delhi('So Delhi')\n",
    "for i in So_Delhi_Follower_List:\n",
    "    print(i)"
   ]
  },
  {
   "cell_type": "markdown",
   "metadata": {},
   "source": [
    "### 6.2) Now print all the followers of “foodtalkindia” that you are following but those who don’t follow you."
   ]
  },
  {
   "cell_type": "code",
   "execution_count": 230,
   "metadata": {},
   "outputs": [],
   "source": [
    "\"\"\"\"\"\n",
    "In this Question i have made a function which can take an argument to tell what to extract i.e followers or following.\n",
    "If , we want to extract Followers then pass \"my_followers\" and if want to extract following then passed \"my_following\"\n",
    "\n",
    "So, this function returns all the user names of the given user i.e your own followers or following .\n",
    "\n",
    "For this, i have first opened the profile of the user and then i have visited follower or following accordingly,\n",
    "then i have made an infinite loop to scroll till end so that all the elements gets loaded.\n",
    "then, extracted all the user names in the set \n",
    "\n",
    "Now, we have 3 sets \n",
    "1) having user names of foodtalkindia followers.\n",
    "2) my followers\n",
    "3) my following\n",
    "\n",
    "\"\"\"\"\"\n",
    "\n",
    "def all_user_names(a):\n",
    "    driver.find_element_by_class_name(\"gmFkV\").click()\n",
    "    time.sleep(2)\n",
    "    if a == 'my_following':\n",
    "        driver.find_elements_by_class_name(\"-nal3\")[2].click()\n",
    "    else:\n",
    "        driver.find_elements_by_class_name(\"-nal3\")[1].click()\n",
    "    \n",
    "    my_following = set()\n",
    "    my_followers = set()\n",
    "    \n",
    "    current_height = driver.execute_script('return document.getElementsByClassName(\"isgrP\")[0].scrollHeight;')\n",
    "    \n",
    "    while True:\n",
    "        driver.execute_script('document.getElementsByClassName(\"isgrP\")[0].scrollTo(0,arguments[0]);',current_height)\n",
    "        time.sleep(2)\n",
    "        new_height = driver.execute_script('return document.getElementsByClassName(\"isgrP\")[0].scrollHeight;')\n",
    "        if new_height == current_height:\n",
    "            break\n",
    "        current_height = new_height\n",
    "        \n",
    "    if a == 'my_following':\n",
    "        following = driver.find_elements_by_class_name(\"_0imsa\")\n",
    "        for i in following:\n",
    "            my_following.add(i.get_attribute('title'))\n",
    "        \n",
    "        return my_following\n",
    "    \n",
    "    else:\n",
    "        followers = driver.find_elements_by_class_name(\"_0imsa\")\n",
    "        for i in followers:\n",
    "            my_followers.add(i.get_attribute('title'))\n",
    "        \n",
    "        return my_followers"
   ]
  },
  {
   "cell_type": "code",
   "execution_count": 231,
   "metadata": {},
   "outputs": [
    {
     "data": {
      "text/plain": [
       "{'anjalichopra49', 'pranay_2106'}"
      ]
     },
     "execution_count": 231,
     "metadata": {},
     "output_type": "execute_result"
    }
   ],
   "source": [
    "# printing my followers by calling function and passing string 'my_followers'\n",
    "\n",
    "my_followers = all_user_names('my_followers')\n",
    "my_followers"
   ]
  },
  {
   "cell_type": "code",
   "execution_count": 234,
   "metadata": {},
   "outputs": [
    {
     "data": {
      "text/plain": [
       "{'_craftsandcreation_',\n",
       " 'anjalichopra49',\n",
       " 'chefmohamed.kassem',\n",
       " 'foodtalkindia',\n",
       " 'hey_foodies3',\n",
       " 'nxtdoorchennai',\n",
       " 'pdf_advertising',\n",
       " 'pranay_2106',\n",
       " 'shahi_dastarkhwan_01',\n",
       " 'trivandrumofferzone',\n",
       " 'yummyfoodtown'}"
      ]
     },
     "execution_count": 234,
     "metadata": {},
     "output_type": "execute_result"
    }
   ],
   "source": [
    "# printing my following by calling function and passing string 'my_following'\n",
    "\n",
    "my_following = all_user_names('my_following')\n",
    "my_following"
   ]
  },
  {
   "cell_type": "code",
   "execution_count": 235,
   "metadata": {},
   "outputs": [
    {
     "data": {
      "text/plain": [
       "{'_craftsandcreation_',\n",
       " 'chefmohamed.kassem',\n",
       " 'foodtalkindia',\n",
       " 'hey_foodies3',\n",
       " 'nxtdoorchennai',\n",
       " 'pdf_advertising',\n",
       " 'shahi_dastarkhwan_01',\n",
       " 'trivandrumofferzone',\n",
       " 'yummyfoodtown'}"
      ]
     },
     "execution_count": 235,
     "metadata": {},
     "output_type": "execute_result"
    }
   ],
   "source": [
    "# extracting only those user names whom i am following but they aren't following me back\n",
    "# so following - followers\n",
    "\n",
    "not_following_me = my_following - my_followers\n",
    "not_following_me"
   ]
  },
  {
   "cell_type": "code",
   "execution_count": 236,
   "metadata": {},
   "outputs": [
    {
     "data": {
      "text/plain": [
       "{'_craftsandcreation_',\n",
       " 'chefmohamed.kassem',\n",
       " 'hey_foodies3',\n",
       " 'nxtdoorchennai',\n",
       " 'pdf_advertising',\n",
       " 'shahi_dastarkhwan_01',\n",
       " 'trivandrumofferzone'}"
      ]
     },
     "execution_count": 236,
     "metadata": {},
     "output_type": "execute_result"
    }
   ],
   "source": [
    "# QUEST 6.2) \n",
    "# extracting those user names whor are the followers of “foodtalkindia” that you are following but those who don’t follow you.\n",
    "# so finding intersection\n",
    "\n",
    "answer_usernames = not_following_me.intersection(food_talk_india)\n",
    "answer_usernames"
   ]
  },
  {
   "cell_type": "markdown",
   "metadata": {},
   "source": [
    "## 7) Check the story of ‘coding.ninjas’. Consider the following Scenarios and print error messages accordingly -\n",
    "\n",
    "### 7.1) If You have already seen the story.\n",
    "\n",
    "### 7.2) Or The user has no story.\n",
    "\n",
    "### 7.3) Or View the story if not yet seen."
   ]
  },
  {
   "cell_type": "code",
   "execution_count": 257,
   "metadata": {},
   "outputs": [],
   "source": [
    "def story_check(profile) :\n",
    "    open_profile(profile) # calling function to open given page\n",
    "    time.sleep(2)\n",
    "    print(\"checking _craftsandcreation_ story status\")\n",
    "    time.sleep(2)\n",
    "\n",
    "    try:\n",
    "        \n",
    "        wait = WebDriverWait(driver, 7)\n",
    "        a = wait.until(EC.presence_of_element_located((By.CLASS_NAME,'h5uC0'))) #if user has no story then it will give TimeoutException\n",
    "        height = driver.find_element_by_class_name(\"CfWVH\").get_attribute('height') # finding height of button\n",
    "        if int(height) < 210:\n",
    "            print(\"Already seen the Story.\")\n",
    "        else:\n",
    "            a = wait.until(EC.presence_of_element_located((By.CLASS_NAME,'_2dbep')))   #for story check button\n",
    "            a.click() # clicking on button\n",
    "            print(\"Seeing the story\")\n",
    "            \n",
    "    except TimeoutException: # handling exception\n",
    "\n",
    "        print(\"no story uploaded\")\n",
    "        time.sleep(2)\n",
    "\n",
    "    time.sleep(5)\n",
    "    "
   ]
  },
  {
   "cell_type": "code",
   "execution_count": 258,
   "metadata": {},
   "outputs": [
    {
     "name": "stdout",
     "output_type": "stream",
     "text": [
      "checking _craftsandcreation_ story status\n",
      "Seeing the story\n"
     ]
    }
   ],
   "source": [
    "story_check('_craftsandcreation_')"
   ]
  },
  {
   "cell_type": "code",
   "execution_count": 259,
   "metadata": {},
   "outputs": [
    {
     "name": "stdout",
     "output_type": "stream",
     "text": [
      "checking _craftsandcreation_ story status\n",
      "Seeing the story\n"
     ]
    }
   ],
   "source": [
    "story_check('_craftsandcreation_')"
   ]
  },
  {
   "cell_type": "code",
   "execution_count": 260,
   "metadata": {},
   "outputs": [
    {
     "name": "stdout",
     "output_type": "stream",
     "text": [
      "checking _craftsandcreation_ story status\n",
      "Already seen the Story.\n"
     ]
    }
   ],
   "source": [
    "story_check('_craftsandcreation_')"
   ]
  },
  {
   "cell_type": "code",
   "execution_count": 73,
   "metadata": {},
   "outputs": [],
   "source": [
    "# my code \n",
    "\n",
    "def story_check(profile):\n",
    "    open_profile(profile)\n",
    "    time.sleep(2)\n",
    "    print('checking coding.ninjas story status')\n",
    "    time.sleep(2)\n",
    "    \n",
    "    try:\n",
    "        wait = WebDriverWait(driver,7)\n",
    "        a = wait.until(EC.presence_of_element_located((By.CLASS_NAME,'h5uC0')))\n",
    "        height = driver.find_element_by_class_name(\"CfWVH\").get_attribute('height')\n",
    "        if int(height) < 210:\n",
    "            print('Already seen the story')\n",
    "            \n",
    "        else:\n",
    "            a = wait.until(EC.presence_of_element_located((By.CLASS_NAME,'_2dbep')))\n",
    "            a.click()\n",
    "            print('Seeing the story')\n",
    "    \n",
    "    except TimeoutException:\n",
    "        print(\"No story uploaded\")\n",
    "        time.sleep(2)\n",
    "    \n",
    "    time.sleep(2)"
   ]
  },
  {
   "cell_type": "code",
   "execution_count": 64,
   "metadata": {},
   "outputs": [
    {
     "name": "stdout",
     "output_type": "stream",
     "text": [
      "checking coding.ninjas story status\n",
      "Seeing the story\n"
     ]
    }
   ],
   "source": [
    "story_check('coding.ninjas')"
   ]
  },
  {
   "cell_type": "code",
   "execution_count": 70,
   "metadata": {},
   "outputs": [
    {
     "name": "stdout",
     "output_type": "stream",
     "text": [
      "checking coding.ninjas story status\n",
      "No story uploaded\n"
     ]
    }
   ],
   "source": [
    "story_check('coding.ninjas')"
   ]
  }
 ],
 "metadata": {
  "kernelspec": {
   "display_name": "Python 3 (ipykernel)",
   "language": "python",
   "name": "python3"
  },
  "language_info": {
   "codemirror_mode": {
    "name": "ipython",
    "version": 3
   },
   "file_extension": ".py",
   "mimetype": "text/x-python",
   "name": "python",
   "nbconvert_exporter": "python",
   "pygments_lexer": "ipython3",
   "version": "3.9.7"
  }
 },
 "nbformat": 4,
 "nbformat_minor": 4
}
